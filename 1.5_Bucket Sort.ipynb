{
 "nbformat": 4,
 "nbformat_minor": 2,
 "metadata": {
  "language_info": {
   "name": "python",
   "codemirror_mode": {
    "name": "ipython",
    "version": 3
   },
   "version": "3.7.4-final"
  },
  "orig_nbformat": 2,
  "file_extension": ".py",
  "mimetype": "text/x-python",
  "name": "python",
  "npconvert_exporter": "python",
  "pygments_lexer": "ipython3",
  "version": 3,
  "kernelspec": {
   "name": "python37464bitlucasvirtualenvae643d9bc50e4336a715e7f20f8c0764",
   "display_name": "Python 3.7.4 64-bit ('lucas': virtualenv)"
  }
 },
 "cells": [
  {
   "cell_type": "code",
   "execution_count": 17,
   "metadata": {},
   "outputs": [],
   "source": [
    "import random\n",
    "\n",
    "def bucket_sort(list_to_sort):\n",
    "    # This algortime is devided in a first iteration and a second to n iteration. \n",
    "    # This is because certrain operations are not necessary to make in the first iteration.\n",
    "    # And others not necessary in the sencond to n iteration.\n",
    "    # So to save on computation time the algoritme has been split up it to two functions.\n",
    "    # Instead of one single generic function. \n",
    "\n",
    "    def for_first_iteration():\n",
    "        buckets = {'0':[], '1': [], '2': [], '3': [], '4': [], '5': [], '6': [], '7': [], '8': [], '9': []}\n",
    "        \n",
    "        #Goes trough all the values in the list and places them into buckets. So that they can be sorted\n",
    "        for item in list_to_sort:\n",
    "            string_nummer = str(item)\n",
    "            buckets[string_nummer[-1]].append(string_nummer)\n",
    "        \n",
    "        # Deletes the list and then places all the elements in the buckets back into the list.\n",
    "        # Now having sorted all numbers on there first numerical digit\n",
    "        del list_to_sort[:]\n",
    "        for bucket in buckets:\n",
    "            numbers_to_sort = buckets[bucket]\n",
    "            for element in numbers_to_sort:\n",
    "                list_to_sort.append(element)\n",
    "        return list_to_sort\n",
    "    \n",
    "\n",
    "    def second_to_n_iteration():\n",
    "        numerical_digit = 1        \n",
    "        while True:\n",
    "            buckets = {'0':[], '1': [], '2': [], '3': [], '4': [], '5': [], '6': [], '7': [], '8': [], '9': []}\n",
    "            index_in_list_to_sort = 0\n",
    "            while index_in_list_to_sort < len(list_to_sort):\n",
    "                item = list_to_sort[index_in_list_to_sort]\n",
    "                \n",
    "                if len(item) > numerical_digit:\n",
    "                    buckets[item[-1 -numerical_digit]].append(item)\n",
    "                    del list_to_sort[index_in_list_to_sort]\n",
    "                else:\n",
    "                    # Index should only increase if a item is not removed.\n",
    "                    # If a item is removed the list get's shorter.\n",
    "                    # And The next number will now be at the old index of the removed number.\n",
    "                    # Therfore is should not increase its index because it would than skip a number.\n",
    "                    index_in_list_to_sort += 1 \n",
    "\n",
    "            # If the buckets are empty that means,\n",
    "            # there are no more numbers that need to be sorted acording to its numerical digit\n",
    "            # So it should break out of the loop and return the sorted list.\n",
    "            if buckets == {'0':[], '1': [], '2': [], '3': [], '4': [], '5': [], '6': [], '7': [], '8': [], '9': []}:\n",
    "                break\n",
    "            \n",
    "            for bucket in buckets:\n",
    "                numbers_to_sort = buckets[bucket]\n",
    "                for element in numbers_to_sort:\n",
    "                    list_to_sort.append(element)\n",
    "            \n",
    "            numerical_digit += 1\n",
    "        \n",
    "        return list_to_sort\n",
    "    \n",
    "    list_to_sort = for_first_iteration()\n",
    "    list_to_sort = second_to_n_iteration()\n",
    "\n",
    "    return list_to_sort"
   ]
  },
  {
   "cell_type": "code",
   "execution_count": 18,
   "metadata": {},
   "outputs": [
    {
     "name": "stdout",
     "output_type": "stream",
     "text": "['2', '5', '5', '5', '6', '6', '8', '8', '9', '11', '11', '12', '12', '13', '16', '17', '18', '18', '19', '20', '20', '21', '22', '23', '26', '28', '28', '28', '29', '30', '31', '31', '32', '33', '33', '33', '34', '34', '34', '35', '36', '36', '36', '37', '37', '38', '39', '39', '39', '40', '41', '41', '42', '43', '45', '46', '47', '49', '50', '51', '51', '52', '52', '53', '54', '57', '57', '58', '60', '61', '62', '63', '63', '63', '64', '68', '69', '69', '70', '70', '70', '71', '73', '76', '76', '77', '78', '79', '79', '82', '82', '82', '84', '87', '88', '88', '90', '91', '91', '92', '95', '97', '98', '99', '100', '100', '100', '101', '101', '101', '103', '103', '103', '104', '104', '104', '104', '107', '109', '114', '114', '115', '116', '116', '117', '119', '121', '122', '122', '124', '126', '126', '127', '130', '130', '130', '131', '132', '133', '134', '135', '135', '136', '138', '142', '142', '142', '143', '144', '144', '145', '146', '149', '153', '155', '155', '157', '158', '160', '161', '161', '161', '162', '162', '164', '164', '165', '166', '167', '167', '168', '171', '172', '172', '173', '174', '175', '176', '178', '178', '179', '179', '179', '180', '180', '181', '182', '183', '183', '187', '187', '187', '187', '187', '188', '189', '189', '189', '190', '191', '191', '191', '192', '192', '193', '194', '195', '196', '196', '196', '197', '198', '198', '200', '200', '201', '201', '201', '202', '202', '202', '204', '205', '206', '206', '208', '211', '211', '211', '212', '215', '216', '216', '217', '218', '218', '219', '219', '220', '220', '221', '221', '223', '225', '226', '226', '229', '231', '232', '232', '233', '234', '235', '236', '236', '238', '238', '238', '238', '239', '239', '240', '241', '241', '242', '242', '242', '245', '246', '247', '247', '247', '247', '248', '248', '248', '249', '250', '250', '251', '252', '253', '253', '254', '254', '254', '254', '254', '254', '255', '256', '257', '257', '259', '261', '262', '262', '262', '263', '265', '267', '267', '268', '268', '268', '269', '269', '269', '270', '271', '271', '272', '272', '272', '272', '274', '274', '275', '276', '279', '279', '282', '282', '283', '284', '286', '287', '287', '289', '289', '291', '291', '291', '293', '293', '294', '296', '296', '296', '297', '298', '301', '301', '302', '302', '304', '305', '305', '312', '314', '315', '318', '318', '319', '320', '322', '322', '323', '323', '325', '325', '326', '327', '327', '328', '328', '329', '329', '329', '330', '330', '332', '332', '334', '335', '339', '340', '340', '340', '341', '341', '343', '344', '344', '345', '345', '345', '346', '347', '349', '351', '352', '354', '358', '359', '361', '361', '361', '365', '368', '368', '369', '371', '371', '371', '372', '372', '373', '374', '375', '375', '376', '376', '377', '382', '382', '384', '384', '384', '388', '392', '395', '395', '396', '396', '399', '400', '400', '400', '400', '401', '402', '402', '403', '404', '404', '405', '406', '407', '408', '409', '412', '415', '415', '416', '416', '417', '417', '418', '418', '421', '422', '422', '423', '425', '425', '428', '429', '430', '431', '431', '431', '434', '435', '435', '436', '436', '437', '438', '439', '440', '440', '441', '441', '443', '443', '444', '446', '447', '447', '448', '449', '449', '450', '451', '452', '454', '459', '459', '459', '460', '460', '461', '462', '463', '463', '465', '465', '468', '472', '473', '473', '474', '474', '477', '477', '478', '478', '479', '479', '479', '480', '481', '482', '482', '482', '484', '485', '486', '487', '489', '489', '490', '491', '493', '494', '494', '494', '495', '496', '497', '497', '499', '499', '500', '501', '501', '502', '503', '503', '504', '504', '505', '506', '508', '509', '509', '510', '510', '512', '513', '514', '514', '514', '515', '517', '517', '517', '519', '519', '520', '520', '521', '522', '522', '524', '526', '526', '526', '527', '529', '532', '533', '533', '534', '535', '537', '537', '539', '540', '545', '545', '546', '547', '548', '548', '549', '549', '550', '550', '550', '551', '552', '553', '555', '555', '556', '556', '557', '558', '558', '560', '561', '561', '562', '563', '563', '563', '565', '565', '566', '567', '568', '570', '571', '573', '573', '578', '578', '579', '581', '582', '583', '584', '587', '587', '588', '588', '588', '591', '592', '593', '595', '596', '598', '600', '601', '603', '606', '610', '610', '610', '612', '612', '614', '614', '614', '615', '617', '619', '620', '620', '622', '622', '623', '624', '625', '625', '626', '629', '630', '631', '634', '634', '635', '636', '637', '641', '642', '642', '642', '644', '649', '653', '656', '656', '656', '659', '661', '661', '662', '663', '664', '665', '667', '668', '668', '669', '669', '672', '673', '673', '675', '675', '675', '676', '677', '679', '680', '681', '683', '684', '684', '685', '685', '686', '689', '689', '690', '690', '693', '694', '694', '696', '696', '696', '697', '697', '698', '698', '698', '699', '701', '702', '703', '704', '705', '705', '705', '705', '707', '707', '709', '709', '713', '714', '715', '716', '719', '719', '720', '721', '722', '723', '724', '724', '724', '725', '726', '728', '728', '730', '732', '733', '734', '735', '735', '736', '736', '738', '740', '742', '743', '743', '744', '745', '746', '747', '747', '747', '751', '752', '753', '754', '754', '758', '758', '759', '759', '759', '760', '760', '762', '764', '765', '766', '768', '769', '769', '770', '771', '772', '773', '781', '783', '783', '783', '784', '784', '784', '785', '785', '786', '787', '787', '788', '789', '789', '790', '790', '795', '795', '795', '796', '797', '798', '800', '801', '806', '807', '809', '810', '810', '811', '811', '812', '815', '817', '817', '817', '819', '819', '820', '820', '821', '821', '822', '823', '824', '825', '825', '826', '827', '828', '828', '829', '829', '829', '829', '832', '832', '835', '837', '837', '838', '838', '838', '843', '844', '845', '845', '845', '846', '848', '849', '850', '850', '851', '852', '854', '854', '855', '855', '856', '856', '857', '858', '860', '860', '862', '862', '863', '865', '867', '867', '869', '870', '871', '871', '871', '873', '878', '878', '878', '879', '880', '882', '882', '883', '886', '887', '887', '887', '888', '890', '894', '896', '897', '897', '899', '902', '903', '903', '904', '905', '906', '907', '908', '908', '908', '908', '909', '912', '913', '914', '915', '915', '916', '916', '916', '918', '920', '921', '922', '922', '924', '926', '927', '927', '930', '934', '934', '934', '940', '940', '942', '943', '943', '943', '944', '944', '946', '947', '948', '949', '950', '950', '950', '951', '953', '954', '955', '956', '956', '958', '959', '960', '960', '961', '961', '963', '966', '966', '968', '970', '972', '974', '976', '980', '981', '981', '981', '982', '983', '985', '986', '988', '989', '990', '991', '991', '994', '994', '995', '996', '997', '998', '999', '1000']\n"
    }
   ],
   "source": [
    "random_list = [random.randint(1, 1000) for x in range(1, 1000)]\n",
    "print(bucket_sort(random_list))\n"
   ]
  },
  {
   "cell_type": "markdown",
   "metadata": {},
   "source": [
    "## Time complexity Bucket sort\n",
    "\n",
    "The time complexity of Bucket sort is a strange one. Seeing as it only linearly goes through the list its Big O is O(n).\n",
    "This can be deducted from the following. Assuming a list of single digits numbers and a perfect implementation of the algorithm. The Big O will be as follows.\n",
    "\n",
    "First, it will go through the list to put it all the numbers into buckets so that would give us O(1*n).<br/><br/>\n",
    "Then it will go trough the Bucket and put it back into the list, making it O(2*n).<br/><br/>\n",
    "\n",
    "Then it will be done so we have O(2*n).\n",
    "But now assume we have a list of double-digit numbers.<br/><br/>\n",
    "\n",
    "First, it will go through the list to put it all the numbers into buckets so O(1*n).<br/><br/>\n",
    "Then it will go trough the Bucket and put it back into the list, making it O(2*n).<br/><br/>\n",
    "Then it will go through the list again to put it into buckets making it O(3*n).<br/><br/>\n",
    "Then it will go trough the Bucket and put it back into the list, making it O(4*n).<br/><br/>\n",
    "Then it will be done so we have O(4*n)\n",
    "\n",
    "This tells us that the complexity of the algorithm does not increase with the size of the list but more with the size of the numbers in the list. If D represents the number of digits, of the number with the most digits. Than this algorithm can be described as follows O((2*D)*n). This will be simplified to O(n) but is still important to note because in certain lists this algorithm can perform worse than a 0(n!) algorithm. One could theoretically make a list with a single value so hight that the runtime of this algorithm would be larger than the time left until the sun will die. While an algoritme with  0(n!) would only have to compare this large (or very low) number with an other number.  \n"
   ]
  }
 ]
}