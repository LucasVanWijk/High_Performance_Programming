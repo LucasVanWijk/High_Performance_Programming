{
 "nbformat": 4,
 "nbformat_minor": 2,
 "metadata": {
  "language_info": {
   "name": "python",
   "codemirror_mode": {
    "name": "ipython",
    "version": 3
   },
   "version": "3.7.4-final"
  },
  "orig_nbformat": 2,
  "file_extension": ".py",
  "mimetype": "text/x-python",
  "name": "python",
  "npconvert_exporter": "python",
  "pygments_lexer": "ipython3",
  "version": 3,
  "kernelspec": {
   "name": "python37464bitbasecondab1ffe87f94064faf98d0a2374a5a924c",
   "display_name": "Python 3.7.4 64-bit ('base': conda)"
  }
 },
 "cells": [
  {
   "cell_type": "code",
   "execution_count": null,
   "metadata": {},
   "outputs": [],
   "source": [
    "from typing import List\n",
    "import numpy\n",
    "import time"
   ]
  },
  {
   "cell_type": "markdown",
   "execution_count": null,
   "metadata": {},
   "outputs": [],
   "source": [
    "## Selection Sort\n",
    "\n",
    "Selection sort is een simpel, maar inefficient sorteeralgoritme. Als je een lijst probeert te sorteren in oplopende volgorde, moet het eerste element altijd het kleinste element zijn. In de eerste iteratie van selection sort selecteert het het kleinste element in de array en verwisselt deze met het eerste element van de array. De tweede iteratie selecteert het tweede kleinste item (deze is kleiner dan alle overige items in de array) en verwisselt deze met het tweede item van de array. Het algoritme gaat zo door tot het in de laatste iteratie het een-na-grootste element van de array met het item op de een-na-laatste plek van de array verwisselt."
   ]
  },
  {
   "cell_type": "code",
   "execution_count": null,
   "metadata": {},
   "outputs": [],
   "source": [
    "def selection_sort(data: List[int]) -> None:\n",
    "    \"\"\"Sort an array using selection sort\"\"\"\n",
    "    # loop over len(data) -1 elements\n",
    "    for index1 in range(len(data)-1):\n",
    "        smallest = index1 # first index of remaining array\n",
    "\n",
    "        # loop to find index of smallest element\n",
    "        for index2 in range(index1 + 1, len(data)):\n",
    "            if data[index2] < data[smallest]:\n",
    "                smallest = index2\n",
    "\n",
    "        # swap smallest element into position\n",
    "        data[smallest], data[index1] = data[index1], data[smallest]"
   ]
  },
  {
   "cell_type": "markdown",
   "execution_count": null,
   "metadata": {},
   "outputs": [],
   "source": [
    "## Insertion Sort\n",
    "\n",
    "Insertion sort is een ander simpel, maar inefficient sorteeralgoritme. In de eerste iteratie van dit algoritme neemt het het tweede element van de array en verwisselt dit met het eerste element als het kleiner is dan het eerste element. In de tweede iteratie bekijkt het het derde element, en plaatst dit (insert) op de juiste plek tussen de eerste twee elementen. De eerste drie elementen zijn nu gesorteerd. Dit blijft het doen tot het alle overige elementen van de array heeft bekeken en op de juiste plek heeft gezet."
   ]
  },
  {
   "cell_type": "code",
   "execution_count": null,
   "metadata": {},
   "outputs": [],
   "source": [
    "def insertion_sort(data: List[int]) -> None:\n",
    "    \"\"\"Sorting an array in place using insertion sort.\"\"\"\n",
    "    # loop over len(data) - 1 elements\n",
    "    for next in range(1, len(data)):\n",
    "        insert = data[next] # value to insert\n",
    "        move_item = next    # location to place element\n",
    "\n",
    "        # search for place to put current element\n",
    "        while move_item > 0 and data[move_item - 1] > insert:\n",
    "            # shift element right one slot\n",
    "            data[move_item] = data[move_item - 1]\n",
    "            move_item -= 1\n",
    "\n",
    "        data[move_item] = insert # place inserted element"
   ]
  },
  {
   "cell_type": "markdown",
   "execution_count": null,
   "metadata": {},
   "outputs": [],
   "source": [
    "## Merge Sort\n",
    "\n",
    "Merge sort is een efficient sorteeralgoritme, maar is conceptueel complexer om te begrijpen dan selection sort of insertion sort. Het merge sort algoritme sorteert door de array te splitsen in twee (ongeveer) evengrote subarrays. Het sorteert beide subarrays, en voegt ze dan samen in één grote array. De lastigheid zit natuurlijk in het samenvoegen. Neem aan dat het algoritme twee kleiner arrays heeft gesorteerd: \n",
    "\n",
    " array1: 14  30  34  56  77\n",
    "\n",
    " array2: 15  20  51  52  93\n",
    "\n",
    "Merge sort combineert deze twee arrays tot één grote, gesorteerde array. Het neemt daarvoor het kleinste element van het begin van beide subarrays, en plaatst dat in de resultaat array; dit herhaalt het tot beide subarrays leeg zijn. In het bovenstaande voorbeeld, neemt het dus eerst 14 uit array1, dan 15 uit array2, dan 20 uit array2, dan 30 uit array1, etc."
   ]
  },
  {
   "cell_type": "code",
   "execution_count": null,
   "metadata": {},
   "outputs": [],
   "source": [
    "def merge_sort(xs: List[int]) -> None:\n",
    "    \"\"\"In place merge sort of array without recursive. The basic idea\n",
    "    is to avoid the recursive call while using iterative solution.\n",
    "    The algorithm first merge chunk of length of 2, then merge chunks\n",
    "    of length 4, then 8, 16, .... , until 2^k where 2^k is large than\n",
    "    the length of the array\n",
    "    \"\"\"\n",
    "\n",
    "    unit = 1\n",
    "    while unit <= len(xs):\n",
    "        h = 0\n",
    "        for h in range(0, len(xs), unit * 2):\n",
    "            l, r = h, min(len(xs), h + 2 * unit)\n",
    "            mid = h + unit\n",
    "            # merge xs[h:h + 2 * unit]\n",
    "            p, q = l, mid\n",
    "            while p < mid and q < r:\n",
    "                # use <= for stable merge merge\n",
    "                if xs[p] <= xs[q]:\n",
    "                    p += 1\n",
    "                else:\n",
    "                    tmp = xs[q]\n",
    "                    xs[p + 1: q + 1] = xs[p:q]\n",
    "                    xs[p] = tmp\n",
    "                    p, mid, q = p + 1, mid + 1, q + 1\n",
    "\n",
    "        unit *= 2\n",
    "\n",
    "def merge_arrays(array1: List[int], array2: List[int]) -> List[int]:\n",
    "    \"\"\"Recursively merge two arrays into one sorted array\"\"\"\n",
    "    if len(array1) == len(array2) == 0: # done when both arrays are empty\n",
    "        return []\n",
    "    else:\n",
    "        if len(array1) == 0: # if either array is empty\n",
    "            head, *tail = array2\n",
    "            return [head] + merge_arrays(array1, tail) # merge the remainder of the non-empty list\n",
    "        elif len(array2) == 0: # idem for the other array\n",
    "            head, *tail = array1\n",
    "            return [head] + merge_arrays(tail, array2)\n",
    "        else: # when both still have elements\n",
    "            head1, *tail1 = array1\n",
    "            head2, *tail2 = array2\n",
    "            if head1 < head2: # select the smallest\n",
    "                return [head1] + merge_arrays(tail1, array2) # and merge with the remainder\n",
    "            else:\n",
    "                return [head2] + merge_arrays(array1, tail2) # idem for when array 2 had the smaller element"
   ]
  },
  {
   "cell_type": "markdown",
   "execution_count": null,
   "metadata": {},
   "outputs": [],
   "source": [
    "# Complexitiet analyse\n",
    "\n",
    "Een analyse van de complexiteit"
   ]
  },
  {
   "cell_type": "code",
   "execution_count": null,
   "metadata": {},
   "outputs": [],
   "source": [
    "def personal_timer(sort_algorime,list_of_list_to_sort):\n",
    "   list_with_times = []\n",
    "   for current_list in list_of_list_to_sort:\n",
    "      start = time.perf_counter()\n",
    "      sort_algorime(current_list)\n",
    "      end = time.perf_counter()\n",
    "      list_with_times.append(f\"{end - start :0.4f}\")\n",
    "\n",
    "   return list_with_times"
   ]
  },
  {
   "cell_type": "code",
   "execution_count": null,
   "metadata": {},
   "outputs": [],
   "source": [
    "random_duizend        = numpy.random.rand(1000)\n",
    "random_tienduizend    = numpy.random.rand(10000)\n",
    "random_dertigduizend  = numpy.random.rand(30000)\n",
    "\n",
    "list_with_times_to_sort = [random_duizend,random_tienduizend,random_dertigduizend]\n",
    "\n",
    "selection_random = personal_timer(selection_sort,list_with_times_to_sort)\n",
    "insertion_random = personal_timer(insertion_sort,list_with_times_to_sort)\n",
    "merge_random     = personal_timer(merge_sort,list_with_times_to_sort)\n",
    "\n",
    "\n",
    "print(\"\"\"\n",
    "                  Random\n",
    "               1000    |    10000    |    30000\n",
    "Selection |   {}   |   {}   |   {}\n",
    "Merge     |   {}   |   {}    |   {}\n",
    "Insertion |   {}   |   {}    |   {}\n",
    "\n",
    "\"\"\".format(selection_random[0],selection_random[1],selection_random[2],\n",
    "           merge_random[0],merge_random[1],merge_random[2],\n",
    "           insertion_random[0],insertion_random[1],insertion_random[2]))\n",
    "\n",
    "\n",
    "\n",
    "#Question 2 reverse the list\n",
    "  \n",
    "reversed_duizend = random_duizend[::-1]\n",
    "reversed_tienduizend = random_tienduizend[::-1]\n",
    "reversed_dertigduizend = random_dertigduizend[::-1]\n",
    "\n",
    "reversed_list_to_sort = [reversed_duizend,reversed_tienduizend,reversed_dertigduizend]\n",
    "\n",
    "selection_random = personal_timer(selection_sort,reversed_list_to_sort)\n",
    "insertion_random = personal_timer(insertion_sort,reversed_list_to_sort)\n",
    "merge_random     = personal_timer(merge_sort,reversed_list_to_sort)\n",
    "\n",
    "\n",
    "print(\"\"\"\n",
    "                 everse R\n",
    "               1000    |    10000    |    30000\n",
    "Selection |   {}   |   {}   |   {}\n",
    "Merge     |   {}   |   {}    |   {}\n",
    "Insertion |   {}   |   {}    |   {}\n",
    "\n",
    "\"\"\".format(selection_random[0],selection_random[1],selection_random[2],\n",
    "           merge_random[0],merge_random[1],merge_random[2],\n",
    "           insertion_random[0],insertion_random[1],insertion_random[2]))\n",
    "\n"
   ]
  },
  {
   "cell_type": "markdown",
   "metadata": {},
   "source": [
    "Big O\n",
    "\n",
    "Selection sort\n",
    "\n",
    "    Best case    = O(n^2)\n",
    "    Average case = O(n^2)\n",
    "    Worst case   = O(n^2)\n",
    "\n",
    "Insertion sort\n",
    "\n",
    "    Best case    = O(n)\n",
    "    Average case = O(n^2)\n",
    "    Worst case   = O(n^2)\n",
    "\n",
    "Merge\n",
    "    \n",
    "    Best case    = O(n log n)\n",
    "    Average case = O(n log n)\n",
    "    Worst case   = O(n log n)\n"
   ]
  },
  {
   "cell_type": "markdown",
   "metadata": {},
   "source": [
    "## Vraag: Maakt het voor de complexiteit (Big O) van een algoritme uit of je een iteratieve of een recursieve versie beschouwd?\n",
    "\n",
    "Nee voor Big O maakt het niet uit. De hoeveelheid operaties is (theoretisch) nogsteeds het zelfde. Voor andere vormen van complexittiet maakt het wel uit bij bijvoorbeeld memory complexiteit\n",
    "\n"
   ]
  },
  {
   "cell_type": "code",
   "execution_count": null,
   "metadata": {},
   "outputs": [],
   "source": []
  }
 ]
}