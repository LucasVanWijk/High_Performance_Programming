{
 "nbformat": 4,
 "nbformat_minor": 2,
 "metadata": {
  "language_info": {
   "name": "python",
   "codemirror_mode": {
    "name": "ipython",
    "version": 3
   },
   "version": "3.7.4-final"
  },
  "orig_nbformat": 2,
  "file_extension": ".py",
  "mimetype": "text/x-python",
  "name": "python",
  "npconvert_exporter": "python",
  "pygments_lexer": "ipython3",
  "version": 3,
  "kernelspec": {
   "name": "python37464bitbasecondab1ffe87f94064faf98d0a2374a5a924c",
   "display_name": "Python 3.7.4 64-bit ('base': conda)"
  }
 },
 "cells": [
  {
   "cell_type": "code",
   "execution_count": 10,
   "metadata": {},
   "outputs": [
    {
     "name": "stdout",
     "output_type": "stream",
     "text": "totaal verbruik is 1400.0 kWH\n"
    }
   ],
   "source": [
    "#Vraag 1\n",
    "T = 1000 * 3600\n",
    "P = 1400\n",
    "E = T * P\n",
    "E_in_kwh = E / 3600000\n",
    "print(\"totaal verbruik is {} kWH\".format(E_in_kwh))"
   ]
  },
  {
   "cell_type": "code",
   "execution_count": 11,
   "metadata": {},
   "outputs": [
    {
     "name": "stdout",
     "output_type": "stream",
     "text": "Het kost 237.5 kwh om 475km te rijden\nMet het energie verbruik van de computer kan je 2.9473684210526314 keer op en neer rijden\n"
    }
   ],
   "source": [
    "#Vraag 2\n",
    "liters_voor_475km = 475 / 20\n",
    "energie_rit = liters_voor_475km * 10\n",
    "print(\"Het kost {} kwh om 475km te rijden\".format(energie_rit))\n",
    "print(\"Met het energie verbruik van de computer kan je {} keer op en neer rijden\".format(E_in_kwh/ (2*energie_rit)))\n"
   ]
  },
  {
   "cell_type": "code",
   "execution_count": 12,
   "metadata": {},
   "outputs": [
    {
     "name": "stdout",
     "output_type": "stream",
     "text": "0.13999999999999999\n"
    }
   ],
   "source": [
    "#Vraag 3\n",
    "#Er van uitgaande dat 100% van de diesel gebruikt kan worden om de cluster te runnen geld de volgende berekening.abs\n",
    "\n",
    "cluster_energie = 1400 * 3600\n",
    "cluster_liters_diesel = cluster_energie / 3600000 / 10\n",
    "print(cluster_liters_diesel)"
   ]
  },
  {
   "cell_type": "code",
   "execution_count": 13,
   "metadata": {},
   "outputs": [
    {
     "name": "stdout",
     "output_type": "stream",
     "text": "totaal verbruik is 350.0 kWH\nHet kost 237.5 kwh om 475km te rijden\nMet het energie verbruik van de computer kan je 0.7368421052631579 keer op en neer rijden\n"
    }
   ],
   "source": [
    "#Vraag 3 \n",
    "#Waarschijnlijk het zelfde omdat de verschillende cores nogsteeds evenveel stroom nodig hebben. Maar mocht dit niet zo zijn of is die stroom niet voor jouw rekening hier de berekening. \n",
    "\n",
    "\n",
    "T = 250 * 3600\n",
    "P = 1400\n",
    "E = T * P\n",
    "E_in_kwh = E / 3600000\n",
    "print(\"totaal verbruik is {} kWH\".format(E_in_kwh))\n",
    "\n",
    "liters_voor_475km = 475 / 20\n",
    "energie_rit = liters_voor_475km * 10\n",
    "print(\"Het kost {} kwh om 475km te rijden\".format(energie_rit))\n",
    "print(\"Met het energie verbruik van de computer kan je {} keer op en neer rijden\".format(E_in_kwh/ (2*energie_rit)))"
   ]
  }
 ]
}